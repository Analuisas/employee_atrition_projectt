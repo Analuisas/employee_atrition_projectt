{
 "cells": [
  {
   "cell_type": "code",
   "execution_count": null,
   "id": "23d99a2c",
   "metadata": {},
   "outputs": [
    {
     "ename": "ModuleNotFoundError",
     "evalue": "No module named 'utils'",
     "output_type": "error",
     "traceback": [
      "\u001b[31m---------------------------------------------------------------------------\u001b[39m",
      "\u001b[31mModuleNotFoundError\u001b[39m                       Traceback (most recent call last)",
      "\u001b[36mCell\u001b[39m\u001b[36m \u001b[39m\u001b[32mIn[2]\u001b[39m\u001b[32m, line 5\u001b[39m\n\u001b[32m      3\u001b[39m \u001b[38;5;28;01mimport\u001b[39;00m \u001b[34;01mos\u001b[39;00m\n\u001b[32m      4\u001b[39m \u001b[38;5;28;01mfrom\u001b[39;00m \u001b[34;01mdotenv\u001b[39;00m \u001b[38;5;28;01mimport\u001b[39;00m load_dotenv\n\u001b[32m----> \u001b[39m\u001b[32m5\u001b[39m \u001b[38;5;28;01mfrom\u001b[39;00m \u001b[34;01mutils\u001b[39;00m\u001b[34;01m.\u001b[39;00m\u001b[34;01mgoogle_drive_utils\u001b[39;00m \u001b[38;5;28;01mimport\u001b[39;00m upload_df_to_drive\n\u001b[32m      7\u001b[39m load_dotenv()\n\u001b[32m      8\u001b[39m engine = create_engine(os.getenv(\u001b[33m\"\u001b[39m\u001b[33mDB_URL\u001b[39m\u001b[33m\"\u001b[39m))\n",
      "\u001b[31mModuleNotFoundError\u001b[39m: No module named 'utils'"
     ]
    }
   ],
   "source": [
    "import pandas as pd\n",
    "from sqlalchemy import create_engine\n",
    "import os\n",
    "from dotenv import load_dotenv\n",
    "from utils.google_drive_utils import upload_df_to_drive\n",
    "\n",
    "load_dotenv()\n",
    "engine = create_engine(os.getenv(\"DB_URL\"))\n",
    "\n",
    "df = pd.read_sql(\"SELECT * FROM employee_attrition_dataset\", engine)\n",
    "df.head()"
   ]
  },
  {
   "cell_type": "code",
   "execution_count": null,
   "id": "16646806",
   "metadata": {},
   "outputs": [],
   "source": [
    "df['attrition'].value_counts(normalize=True) * 100\n"
   ]
  },
  {
   "cell_type": "code",
   "execution_count": null,
   "id": "3e1e857a",
   "metadata": {},
   "outputs": [],
   "source": [
    "df.groupby('attrition')['age'].mean()\n"
   ]
  },
  {
   "cell_type": "code",
   "execution_count": null,
   "id": "9aec9f90",
   "metadata": {},
   "outputs": [],
   "source": [
    "df.groupby('department')['attrition'].mean().sort_values(ascending=False)\n"
   ]
  },
  {
   "cell_type": "code",
   "execution_count": null,
   "id": "f99ba21a",
   "metadata": {},
   "outputs": [],
   "source": [
    "df.groupby('attrition')['monthly_income'].mean()\n"
   ]
  },
  {
   "cell_type": "code",
   "execution_count": null,
   "id": "af8d8ae1",
   "metadata": {},
   "outputs": [],
   "source": [
    "df.groupby('job_satisfaction')['attrition'].mean()\n",
    "df.groupby('work_life_balance')['attrition'].mean()\n"
   ]
  },
  {
   "cell_type": "code",
   "execution_count": null,
   "id": "33850203",
   "metadata": {},
   "outputs": [],
   "source": [
    "df.groupby('gender')['attrition'].mean()\n",
    "df.groupby('marital_status')['attrition'].mean()\n",
    "df.groupby('job_role')['attrition'].mean().sort_values(ascending=False)\n"
   ]
  },
  {
   "cell_type": "code",
   "execution_count": null,
   "id": "5bc71880",
   "metadata": {},
   "outputs": [],
   "source": []
  }
 ],
 "metadata": {
  "kernelspec": {
   "display_name": "Python 3",
   "language": "python",
   "name": "python3"
  },
  "language_info": {
   "codemirror_mode": {
    "name": "ipython",
    "version": 3
   },
   "file_extension": ".py",
   "mimetype": "text/x-python",
   "name": "python",
   "nbconvert_exporter": "python",
   "pygments_lexer": "ipython3",
   "version": "3.12.3"
  }
 },
 "nbformat": 4,
 "nbformat_minor": 5
}
