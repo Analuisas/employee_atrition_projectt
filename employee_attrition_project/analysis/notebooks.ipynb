{
 "cells": [
  {
   "cell_type": "code",
   "execution_count": null,
   "id": "23d99a2c",
   "metadata": {
    "vscode": {
     "languageId": "plaintext"
    }
   },
   "outputs": [],
   "source": [
    "import pandas as pd\n",
    "from sqlalchemy import create_engine\n",
    "import os\n",
    "from dotenv import load_dotenv\n",
    "\n",
    "load_dotenv()\n",
    "engine = create_engine(os.getenv(\"DB_URL\"))\n",
    "\n",
    "df = pd.read_sql(\"SELECT * FROM employee_attrition_dataset\", engine)\n",
    "df.head()"
   ]
  },
  {
   "cell_type": "code",
   "execution_count": null,
   "id": "16646806",
   "metadata": {
    "vscode": {
     "languageId": "plaintext"
    }
   },
   "outputs": [],
   "source": [
    "from models.base import Base, engine\n",
    "from models.employee import Employee\n",
    "\n",
    "Base.metadata.create_all(bind=engine)"
   ]
  }
 ],
 "metadata": {
  "language_info": {
   "name": "python"
  }
 },
 "nbformat": 4,
 "nbformat_minor": 5
}
