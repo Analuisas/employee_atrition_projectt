{
 "cells": [
  {
   "cell_type": "code",
   "execution_count": 1,
   "id": "f221cd33",
   "metadata": {},
   "outputs": [],
   "source": [
    "import pandas as pd \n",
    "import matplotlib.pyplot as plt\n",
    "import numpy as np "
   ]
  },
  {
   "cell_type": "code",
   "execution_count": 2,
   "id": "9f23f4c6",
   "metadata": {},
   "outputs": [],
   "source": [
    "employee_10k = pd.read_csv(\"/home/ana-luisa/Documentos/GitHub/employee_attrition_project/data/employee_attrition_dataset_10000.csv\")\n",
    "employee_1k = pd.read_csv(\"/home/ana-luisa/Documentos/GitHub/employee_attrition_project/data/employee_attrition_dataset.csv\")"
   ]
  },
  {
   "cell_type": "code",
   "execution_count": null,
   "id": "fdad9629",
   "metadata": {},
   "outputs": [],
   "source": [
    "employee_10k"
   ]
  }
 ],
 "metadata": {
  "kernelspec": {
   "display_name": "Python 3",
   "language": "python",
   "name": "python3"
  },
  "language_info": {
   "codemirror_mode": {
    "name": "ipython",
    "version": 3
   },
   "file_extension": ".py",
   "mimetype": "text/x-python",
   "name": "python",
   "nbconvert_exporter": "python",
   "pygments_lexer": "ipython3",
   "version": "3.12.3"
  }
 },
 "nbformat": 4,
 "nbformat_minor": 5
}
